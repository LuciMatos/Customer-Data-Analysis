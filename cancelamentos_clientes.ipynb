{
 "cells": [
  {
   "cell_type": "code",
   "execution_count": null,
   "metadata": {},
   "outputs": [],
   "source": [
    "import pandas as pd"
   ]
  },
  {
   "cell_type": "code",
   "execution_count": null,
   "metadata": {},
   "outputs": [],
   "source": [
    "# Lendo arquivo\n",
    "table = pd.read_csv('cancelamentos.csv')\n",
    "display(table)"
   ]
  },
  {
   "cell_type": "code",
   "execution_count": null,
   "metadata": {},
   "outputs": [],
   "source": [
    "#Removendo a coluna CustomerID porque não tem importância para a análise dos dados\n",
    "table = table.drop('CustomerID', axis=1)\n",
    "display(table)"
   ]
  },
  {
   "cell_type": "markdown",
   "metadata": {},
   "source": [
    "Identificando os dados"
   ]
  },
  {
   "cell_type": "code",
   "execution_count": null,
   "metadata": {},
   "outputs": [],
   "source": [
    "display(table.info())"
   ]
  },
  {
   "cell_type": "markdown",
   "metadata": {},
   "source": [
    "Pode verifica-se que temos um total de 881.666 linhas de informações. Mas nem todas essas linhas apresentam valores reais, algumas estão em branco.\n",
    "Assim irei remover as informações nulas para não ter conflito de informação."
   ]
  },
  {
   "cell_type": "markdown",
   "metadata": {},
   "source": [
    "## Tratando e removendo os valores nulos e duplicados"
   ]
  },
  {
   "cell_type": "code",
   "execution_count": null,
   "metadata": {},
   "outputs": [],
   "source": [
    "table = table.dropna()\n",
    "display(table.info())"
   ]
  },
  {
   "cell_type": "code",
   "execution_count": null,
   "metadata": {},
   "outputs": [],
   "source": [
    "#Podemos ver que das 881.666 linhas de informações que tinha-mos, 7 dessas informações mostrava valores nulos"
   ]
  },
  {
   "cell_type": "code",
   "execution_count": null,
   "metadata": {},
   "outputs": [],
   "source": [
    "#table.duplicated().sum()"
   ]
  },
  {
   "cell_type": "code",
   "execution_count": null,
   "metadata": {},
   "outputs": [],
   "source": [
    "#Temos no nossa conjunto de dados um total de 440827 valores duplicados, por isso remover eles é essencial "
   ]
  },
  {
   "cell_type": "code",
   "execution_count": null,
   "metadata": {},
   "outputs": [],
   "source": [
    "#table = table.drop_duplicates()"
   ]
  },
  {
   "cell_type": "markdown",
   "metadata": {},
   "source": [
    "## Análise Exploratória\n"
   ]
  },
  {
   "cell_type": "markdown",
   "metadata": {},
   "source": [
    " Estatística"
   ]
  },
  {
   "cell_type": "code",
   "execution_count": null,
   "metadata": {},
   "outputs": [],
   "source": [
    "table.describe()"
   ]
  },
  {
   "cell_type": "code",
   "execution_count": null,
   "metadata": {},
   "outputs": [],
   "source": [
    "#Variância é como os dados estão afastado um dos outros. (Calculo é a raiz quadrada o que representa o std)\n",
    "#Desvio padrão representa como os dados estão desviando entre a média(mean)\n",
    "table['cancelou'].var()"
   ]
  },
  {
   "cell_type": "markdown",
   "metadata": {},
   "source": [
    "Analisando quantas pessoas cancelaram e quantas não cancelaram?\n"
   ]
  },
  {
   "cell_type": "code",
   "execution_count": null,
   "metadata": {},
   "outputs": [],
   "source": [
    "display(table['cancelou'].value_counts())"
   ]
  },
  {
   "cell_type": "code",
   "execution_count": null,
   "metadata": {},
   "outputs": [],
   "source": [
    "display(table['cancelou'].value_counts(normalize=True).map('{:.1%}'.format))"
   ]
  },
  {
   "cell_type": "markdown",
   "metadata": {},
   "source": [
    "Nota-se que 56,7% das pessoas estão cancelando o serviço, ou seja, mais da metade dos clientes. Vamos verificar de onde estao surgindo esses cancelamentos."
   ]
  },
  {
   "cell_type": "markdown",
   "metadata": {},
   "source": [
    "## Verificando os cancelamentos por Contrato"
   ]
  },
  {
   "cell_type": "code",
   "execution_count": null,
   "metadata": {},
   "outputs": [],
   "source": [
    "display(table['duracao_contrato'].value_counts())\n",
    "display(table['duracao_contrato'].value_counts(normalize=True).map('{:.1%}'.format))"
   ]
  },
  {
   "cell_type": "markdown",
   "metadata": {},
   "source": [
    "Podemos ver que existem 3 tipos de contratos, Anual, Trimestral e Mensal. \n",
    "Com essa análise temos que contratos Anuais e Trimestrais possuem uma contagem próxima, porém Mensal mostra uma diferença de 20%.\n",
    "Iremos analisar como estão distribuídos os dados de cancelamentos por tipo de contrato"
   ]
  },
  {
   "cell_type": "markdown",
   "metadata": {},
   "source": [
    "## Analisando as informações dos Contratos"
   ]
  },
  {
   "cell_type": "code",
   "execution_count": null,
   "metadata": {},
   "outputs": [],
   "source": [
    "#Analisando o contrato mensal\n",
    "display(table.groupby('duracao_contrato').mean(numeric_only=True))\n",
    "\n",
    "#Para o contrato Mensal temos a média de 1 para os cancelamentos, ou seja, todos ou praticamente todos cancelaram o contrato\n"
   ]
  },
  {
   "cell_type": "markdown",
   "metadata": {},
   "source": [
    "## Removendo o Contrato Mensal"
   ]
  },
  {
   "cell_type": "code",
   "execution_count": null,
   "metadata": {},
   "outputs": [],
   "source": [
    "#Como vimos que o contrato Mensal representa um alto valor de cancelamentos, iremos remover para analisar os outros\n",
    "table = table[table['duracao_contrato']!='Monthly']\n",
    "display(table)"
   ]
  },
  {
   "cell_type": "code",
   "execution_count": null,
   "metadata": {},
   "outputs": [],
   "source": [
    "display(table['cancelou'].value_counts())\n",
    "display(table['cancelou'].value_counts(normalize=True).map('{:.1%}'.format))"
   ]
  },
  {
   "cell_type": "markdown",
   "metadata": {},
   "source": [
    "Podemos ver que mesmo sem a informação das assinaturas Mensais a porcentagem de cancelamento teve uma queda e passou a ser 43%. \n",
    "Mesmo assim é um valor considerável alto, e para isso a analise continua sendo feito até chegarmos num valor aceitável, longe dos 50%."
   ]
  },
  {
   "cell_type": "markdown",
   "metadata": {},
   "source": [
    "## Análisando as Assinaturas"
   ]
  },
  {
   "cell_type": "code",
   "execution_count": null,
   "metadata": {},
   "outputs": [],
   "source": [
    "#Verificando quais os tipos de assinatura o conjunto de dados possui\n",
    "display(table['assinatura'].value_counts(normalize=True))"
   ]
  },
  {
   "cell_type": "markdown",
   "metadata": {},
   "source": [
    "Aqui podemos ver que tem a mesma quantidade para cada tipo de assinatura, ou seja, praticamente 1/3."
   ]
  },
  {
   "cell_type": "code",
   "execution_count": null,
   "metadata": {},
   "outputs": [],
   "source": [
    "#Agrupando as informações por assinaturas e obter a média\n",
    "display(table.groupby('assinatura').mean(numeric_only=True))"
   ]
  },
  {
   "cell_type": "markdown",
   "metadata": {},
   "source": [
    "Neste caso temos que a média dos cancelamentos são próximos, e portanto não podemos excluir nenhuma informação por tratar de dados praticamente iguais."
   ]
  },
  {
   "cell_type": "markdown",
   "metadata": {},
   "source": [
    "## Análise Gráfica"
   ]
  },
  {
   "cell_type": "markdown",
   "metadata": {},
   "source": [
    "Criando um gŕafico para entender melhor as informações, porque analisando apenas números fica difícil."
   ]
  },
  {
   "cell_type": "code",
   "execution_count": null,
   "metadata": {},
   "outputs": [],
   "source": [
    "pip install plotly.express"
   ]
  },
  {
   "cell_type": "code",
   "execution_count": null,
   "metadata": {},
   "outputs": [],
   "source": [
    "\n",
    "pip show nbformat\n"
   ]
  },
  {
   "cell_type": "code",
   "execution_count": null,
   "metadata": {},
   "outputs": [],
   "source": [
    "pip install --upgrade nbformat\n"
   ]
  },
  {
   "cell_type": "code",
   "execution_count": null,
   "metadata": {},
   "outputs": [],
   "source": [
    "\n",
    "\n",
    "# Análise das causas dos cancelamentos (como as colunas da base impactam no cancelamento)\n",
    "import plotly.express as px\n",
    "\n",
    "for coluna in table.columns:\n",
    "    grafico = px.histogram(table, x=coluna, color=\"cancelou\")\n",
    "    # exibir o grafico\n",
    "    grafico.show()"
   ]
  }
 ],
 "metadata": {
  "kernelspec": {
   "display_name": ".venv",
   "language": "python",
   "name": "python3"
  },
  "language_info": {
   "codemirror_mode": {
    "name": "ipython",
    "version": 3
   },
   "file_extension": ".py",
   "mimetype": "text/x-python",
   "name": "python",
   "nbconvert_exporter": "python",
   "pygments_lexer": "ipython3",
   "version": "3.11.6"
  }
 },
 "nbformat": 4,
 "nbformat_minor": 2
}
